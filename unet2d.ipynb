{
  "cells": [
    {
      "cell_type": "markdown",
      "metadata": {
        "id": "HMIG5gOwa-Nb"
      },
      "source": [
        "**Import Libraries**\n"
      ]
    },
    {
      "cell_type": "code",
      "execution_count": 1,
      "metadata": {
        "id": "spA2vbr3a0j7"
      },
      "outputs": [],
      "source": [
        "import numpy as np\n",
        "import nibabel as nib\n",
        "import matplotlib.pyplot as plt\n",
        "import tensorflow as tf\n",
        "import os\n",
        "from os.path import join, basename\n",
        "import os.path\n",
        "from tensorflow import keras\n",
        "from tensorflow.keras import layers\n",
        "import cv2"
      ]
    },
    {
      "cell_type": "markdown",
      "metadata": {
        "id": "IEFUu8FjYvaz"
      },
      "source": [
        "**Define Parameters**\n"
      ]
    },
    {
      "cell_type": "code",
      "execution_count": 2,
      "metadata": {
        "id": "eerKWEtxUg_x"
      },
      "outputs": [],
      "source": [
        "FNAME_PATTERN = \"./\"\n",
        "N_VOLUMES = 10\n",
        "IMAGE_SIZE = (256, 128, 256)\n",
        "\n",
        "N_CLASSES = 5\n",
        "N_INPUT_CHANNELS = 1\n",
        "PATCH_SIZE = (64, 64)\n",
        "PATCH_STRIDE = (32, 32)\n",
        "\n",
        "CONTENT_THRESHOLD = 0.3\n",
        "\n",
        "N_EPOCHS = 50\n",
        "BATCH_SIZE = 64\n",
        "PATIENCE = 10\n",
        "MODEL_FNAME_PATTERN = \"model.h5\"\n",
        "OPTIMISER = \"Adam\"\n",
        "LOSS = \"categorical_crossentropy\""
      ]
    },
    {
      "cell_type": "markdown",
      "metadata": {},
      "source": [
        "**Model Definition**\n"
      ]
    },
    {
      "cell_type": "code",
      "execution_count": 3,
      "metadata": {
        "id": "Qo7ls49UTdHS"
      },
      "outputs": [],
      "source": [
        "def get_unet(\n",
        "    img_size=PATCH_SIZE, n_classes=N_CLASSES, n_input_channels=N_INPUT_CHANNELS, scale=1\n",
        "):\n",
        "    inputs = keras.Input(shape=img_size + (n_input_channels,))\n",
        "    dropout_rate = 0.2\n",
        "    # Encoding path\n",
        "    conv1 = layers.Conv2D(32 * scale, (3, 3), padding=\"same\", activation=\"relu\")(inputs)\n",
        "    conv1 = layers.Conv2D(32 * scale, (3, 3), padding=\"same\", activation=\"relu\")(conv1)\n",
        "    # drop1 = layers.Dropout(rate=dropout_rate)(conv1, training=True)\n",
        "    max1 = layers.MaxPooling2D((2, 2))(conv1)\n",
        "\n",
        "    conv2 = layers.Conv2D(64 * scale, (3, 3), padding=\"same\", activation=\"relu\")(max1)\n",
        "    conv2 = layers.Conv2D(64 * scale, (3, 3), padding=\"same\", activation=\"relu\")(conv2)\n",
        "    # drop2 = layers.Dropout(rate=dropout_rate)(conv2, training=True)\n",
        "    max2 = layers.MaxPooling2D((2, 2))(conv2)\n",
        "\n",
        "    conv3 = layers.Conv2D(128 * scale, (3, 3), padding=\"same\", activation=\"relu\")(max2)\n",
        "    conv3 = layers.Conv2D(128 * scale, (3, 3), padding=\"same\", activation=\"relu\")(conv3)\n",
        "    # drop3 = layers.Dropout(rate=dropout_rate)(conv3, training=True)\n",
        "    max3 = layers.MaxPooling2D((2, 2))(conv3)\n",
        "\n",
        "    lat = layers.Conv2D(256 * scale, (3, 3), padding=\"same\", activation=\"relu\")(max3)\n",
        "\n",
        "    # Decoding path\n",
        "    up1 = layers.UpSampling2D((2, 2))(lat)\n",
        "    concat1 = layers.concatenate([conv3, up1], axis=-1)\n",
        "    conv4 = layers.Conv2D(128 * scale, (3, 3), padding=\"same\", activation=\"relu\")(\n",
        "        concat1\n",
        "    )\n",
        "    conv4 = layers.Conv2D(128 * scale, (3, 3), padding=\"same\", activation=\"relu\")(conv4)\n",
        "    # drop4 = layers.Dropout(rate=dropout_rate)(conv4, training=True)\n",
        "\n",
        "    up2 = layers.UpSampling2D((2, 2))(conv4)\n",
        "    concat2 = layers.concatenate([conv2, up2], axis=-1)\n",
        "    conv5 = layers.Conv2D(64 * scale, (3, 3), padding=\"same\", activation=\"relu\")(\n",
        "        concat2\n",
        "    )\n",
        "    conv5 = layers.Conv2D(64 * scale, (3, 3), padding=\"same\", activation=\"relu\")(conv5)\n",
        "    # drop5 = layers.Dropout(rate=dropout_rate)(conv5, training=True)\n",
        "\n",
        "    up3 = layers.UpSampling2D((2, 2))(conv5)\n",
        "    concat3 = layers.concatenate([conv1, up3], axis=-1)\n",
        "    conv6 = layers.Conv2D(32 * scale, (3, 3), padding=\"same\", activation=\"relu\")(\n",
        "        concat3\n",
        "    )\n",
        "    conv6 = layers.Conv2D(32 * scale, (3, 3), padding=\"same\", activation=\"relu\")(conv6)\n",
        "    # drop6 = layers.Dropout(rate=dropout_rate)(conv6, training=True)\n",
        "\n",
        "    outputs = layers.Conv2D(n_classes, (1, 1), activation=\"softmax\")(conv6)\n",
        "\n",
        "    model = keras.Model(inputs, outputs)\n",
        "\n",
        "    return model"
      ]
    },
    {
      "cell_type": "markdown",
      "metadata": {},
      "source": [
        "**Load Data**\n"
      ]
    },
    {
      "cell_type": "code",
      "execution_count": 4,
      "metadata": {
        "id": "0mnj3JDme9gS"
      },
      "outputs": [],
      "source": [
        "def load_data(n_volumes, image_size, data_path):\n",
        "    data_traces = os.listdir(data_path)\n",
        "    T1_volumes = np.zeros((n_volumes, *image_size, 1))\n",
        "    labels = np.zeros((n_volumes, *image_size, 1))\n",
        "    x = 0\n",
        "    for i in enumerate(data_traces):\n",
        "        print(i[1])\n",
        "\n",
        "        img_data = nib.load(\n",
        "            data_path + \"/\" + f\"{i[1]}\" + \"/\" + f\"{i[1]}_5labels_preprocessed.nii.gz\"\n",
        "        )\n",
        "        # img_data = nib.load(fname_pattern.format(i+1, 'T1'))\n",
        "        T1_volumes[x] = img_data.get_fdata()\n",
        "\n",
        "        seg_data = nib.load(\n",
        "            data_path\n",
        "            + \"/\"\n",
        "            + f\"{i[1]}\"\n",
        "            + \"/\"\n",
        "            + f\"{i[1]}_5labels_preprocessed_seg.nii.gz\"\n",
        "        )\n",
        "        labels[x] = seg_data.get_fdata()\n",
        "        x = x + 1\n",
        "\n",
        "    return (T1_volumes, labels)"
      ]
    },
    {
      "cell_type": "code",
      "execution_count": 5,
      "metadata": {
        "colab": {
          "base_uri": "https://localhost:8080/"
        },
        "id": "_17931FqCqZ6",
        "outputId": "731ffefc-99d3-45e1-82db-ac52912af262"
      },
      "outputs": [
        {
          "name": "stdout",
          "output_type": "stream",
          "text": [
            "IBSR_01\n",
            "IBSR_03\n",
            "IBSR_04\n",
            "IBSR_06\n",
            "IBSR_07\n",
            "IBSR_08\n",
            "IBSR_16\n"
          ]
        }
      ],
      "source": [
        "(training_volumes_T1, training_labels) = load_data(7, IMAGE_SIZE, \"./data/train\")"
      ]
    },
    {
      "cell_type": "code",
      "execution_count": 6,
      "metadata": {
        "colab": {
          "base_uri": "https://localhost:8080/"
        },
        "id": "qbaTRL_Tg5-_",
        "outputId": "3c4177c6-8d70-417d-bc22-797fb8a2cfd0"
      },
      "outputs": [
        {
          "name": "stdout",
          "output_type": "stream",
          "text": [
            "IBSR_05\n",
            "IBSR_09\n",
            "IBSR_18\n"
          ]
        }
      ],
      "source": [
        "(validation_volumes_T1, validation_labels) = load_data(3, IMAGE_SIZE, \"./data/val\")"
      ]
    },
    {
      "cell_type": "code",
      "execution_count": 7,
      "metadata": {
        "colab": {
          "base_uri": "https://localhost:8080/"
        },
        "id": "d2VyXN3ZM-Mv",
        "outputId": "1e903e29-36f6-4c38-9c30-4499820ca71e"
      },
      "outputs": [
        {
          "name": "stdout",
          "output_type": "stream",
          "text": [
            "IBSR_11\n",
            "IBSR_12\n",
            "IBSR_13\n",
            "IBSR_14\n",
            "IBSR_17\n"
          ]
        }
      ],
      "source": [
        "(testing_volumes_T1, testing_labels) = load_data(5, IMAGE_SIZE, \"./data/test\")"
      ]
    },
    {
      "cell_type": "markdown",
      "metadata": {
        "id": "BFDtzyW6FH7x"
      },
      "source": [
        "**Extract Useful Patches**\n"
      ]
    },
    {
      "cell_type": "code",
      "execution_count": 8,
      "metadata": {
        "id": "v4qyfiRaf7n2"
      },
      "outputs": [],
      "source": [
        "def extract_patches(x, patch_size, patch_stride):\n",
        "    return tf.image.extract_patches(\n",
        "        x,\n",
        "        sizes=[1, *patch_size, 1],\n",
        "        strides=[1, *patch_stride, 1],\n",
        "        rates=[1, 1, 1, 1],\n",
        "        padding=\"SAME\",\n",
        "        name=None,\n",
        "    )"
      ]
    },
    {
      "cell_type": "code",
      "execution_count": 9,
      "metadata": {
        "id": "nsKNTm-Lf-sb"
      },
      "outputs": [],
      "source": [
        "def extract_useful_patches(\n",
        "    volumes,\n",
        "    labels,\n",
        "    image_size=IMAGE_SIZE,\n",
        "    patch_size=PATCH_SIZE,\n",
        "    stride=PATCH_STRIDE,\n",
        "    threshold=CONTENT_THRESHOLD,\n",
        "    num_classes=N_CLASSES,\n",
        "):\n",
        "    volumes = volumes.reshape([-1, image_size[1], image_size[2], 1])\n",
        "    labels = labels.reshape([-1, image_size[1], image_size[2], 1])\n",
        "    print(volumes.shape)\n",
        "\n",
        "    vol_patches = extract_patches(volumes, patch_size, stride).numpy()\n",
        "    seg_patches = extract_patches(labels, patch_size, stride).numpy()\n",
        "\n",
        "    vol_patches = vol_patches.reshape([-1, *patch_size, 1])\n",
        "    seg_patches = seg_patches.reshape(\n",
        "        [\n",
        "            -1,\n",
        "            *patch_size,\n",
        "        ]\n",
        "    )\n",
        "    print(vol_patches.shape)\n",
        "    print(seg_patches.shape)\n",
        "\n",
        "    foreground_mask = seg_patches != 0\n",
        "\n",
        "    useful_patches = foreground_mask.sum(axis=(1, 2)) > threshold * np.prod(patch_size)\n",
        "\n",
        "    vol_patches = vol_patches[useful_patches]\n",
        "    seg_patches = seg_patches[useful_patches]\n",
        "    print(seg_patches.shape[0])\n",
        "\n",
        "    seg_patches = tf.keras.utils.to_categorical(\n",
        "        seg_patches, num_classes=N_CLASSES, dtype=\"float32\"\n",
        "    )\n",
        "\n",
        "    return (vol_patches, seg_patches)"
      ]
    },
    {
      "cell_type": "code",
      "execution_count": 10,
      "metadata": {
        "colab": {
          "base_uri": "https://localhost:8080/"
        },
        "id": "92C3sTe7fzNP",
        "outputId": "3f775cb1-10c4-41b0-dc11-27f58b65e0df"
      },
      "outputs": [
        {
          "name": "stdout",
          "output_type": "stream",
          "text": [
            "(1792, 128, 256, 1)\n",
            "(57344, 64, 64, 1)\n",
            "(57344, 64, 64)\n",
            "9044\n",
            "(768, 128, 256, 1)\n",
            "(24576, 64, 64, 1)\n",
            "(24576, 64, 64)\n",
            "4499\n"
          ]
        }
      ],
      "source": [
        "(training_patches_T1, training_patches_seg) = extract_useful_patches(\n",
        "    training_volumes_T1, training_labels\n",
        ")\n",
        "(validation_patches_T1, validation_patches_seg) = extract_useful_patches(\n",
        "    validation_volumes_T1, validation_labels\n",
        ")"
      ]
    },
    {
      "cell_type": "markdown",
      "metadata": {
        "id": "0K_iI4dHn_yq"
      },
      "source": [
        "**Train Network**\n"
      ]
    },
    {
      "cell_type": "code",
      "execution_count": null,
      "metadata": {
        "colab": {
          "base_uri": "https://localhost:8080/"
        },
        "id": "R31r7MJLwKLr",
        "outputId": "3e6bbb76-9481-4954-9fff-2e1c10c71665"
      },
      "outputs": [
        {
          "name": "stdout",
          "output_type": "stream",
          "text": [
            "Epoch 1/50\n",
            "151/151 [==============================] - 28s 179ms/step - loss: 0.4217 - val_loss: 0.2570\n",
            "Epoch 2/50\n",
            "151/151 [==============================] - 27s 176ms/step - loss: 0.2009 - val_loss: 0.1925\n",
            "Epoch 3/50\n",
            "151/151 [==============================] - 27s 176ms/step - loss: 0.1664 - val_loss: 0.1643\n",
            "Epoch 4/50\n",
            "151/151 [==============================] - 27s 176ms/step - loss: 0.1431 - val_loss: 0.1565\n",
            "Epoch 5/50\n",
            "151/151 [==============================] - 26s 175ms/step - loss: 0.1777 - val_loss: 0.1711\n",
            "Epoch 6/50\n",
            "151/151 [==============================] - 27s 176ms/step - loss: 0.1360 - val_loss: 0.1515\n",
            "Epoch 7/50\n",
            "151/151 [==============================] - 27s 177ms/step - loss: 0.1163 - val_loss: 0.1477\n",
            "Epoch 8/50\n",
            "151/151 [==============================] - 27s 176ms/step - loss: 0.1077 - val_loss: 0.1470\n",
            "Epoch 9/50\n",
            "151/151 [==============================] - 27s 177ms/step - loss: 0.1001 - val_loss: 0.1447\n",
            "Epoch 10/50\n",
            "151/151 [==============================] - 27s 176ms/step - loss: 0.0925 - val_loss: 0.1497\n",
            "Epoch 11/50\n",
            "151/151 [==============================] - 26s 175ms/step - loss: 0.0874 - val_loss: 0.1566\n",
            "Epoch 12/50\n",
            "151/151 [==============================] - 27s 176ms/step - loss: 0.0863 - val_loss: 0.1570\n",
            "Epoch 13/50\n",
            "151/151 [==============================] - 27s 176ms/step - loss: 0.0811 - val_loss: 0.1578\n",
            "Epoch 14/50\n",
            "151/151 [==============================] - 26s 175ms/step - loss: 0.0757 - val_loss: 0.1530\n",
            "Epoch 15/50\n",
            "151/151 [==============================] - 26s 176ms/step - loss: 0.0746 - val_loss: 0.1541\n",
            "Epoch 16/50\n",
            "151/151 [==============================] - 27s 176ms/step - loss: 0.0736 - val_loss: 0.1613\n",
            "Epoch 17/50\n",
            "151/151 [==============================] - 26s 175ms/step - loss: 0.0722 - val_loss: 0.1656\n",
            "Epoch 18/50\n",
            "151/151 [==============================] - 27s 176ms/step - loss: 0.0688 - val_loss: 0.1593\n",
            "Epoch 19/50\n",
            "151/151 [==============================] - 27s 176ms/step - loss: 0.0662 - val_loss: 0.1610\n"
          ]
        },
        {
          "data": {
            "text/plain": [
              "<keras.callbacks.History at 0x7f6f70142410>"
            ]
          },
          "execution_count": 41,
          "metadata": {},
          "output_type": "execute_result"
        }
      ],
      "source": [
        "my_callbacks = [\n",
        "    tf.keras.callbacks.EarlyStopping(monitor=\"val_loss\", patience=3),\n",
        "    tf.keras.callbacks.ModelCheckpoint(\n",
        "        filepath=MODEL_FNAME_PATTERN, save_best_only=True\n",
        "    ),\n",
        "]\n",
        "\n",
        "model = get_unet()\n",
        "model.compile(optimizer=OPTIMISER, loss=LOSS)\n",
        "model.fit(\n",
        "    x=training_patches_T1,\n",
        "    y=training_patches_seg,\n",
        "    validation_data=(validation_patches_T1, validation_patches_seg),\n",
        "    batch_size=BATCH_SIZE,\n",
        "    epochs=N_EPOCHS,\n",
        "    callbacks=my_callbacks,\n",
        "    verbose=1,\n",
        ")"
      ]
    },
    {
      "cell_type": "markdown",
      "metadata": {
        "id": "XGcfrZCMjz4M"
      },
      "source": [
        "**Load Best model**\n"
      ]
    },
    {
      "cell_type": "code",
      "execution_count": 11,
      "metadata": {
        "id": "5fNsYJL7KnON"
      },
      "outputs": [],
      "source": [
        "model = get_unet(\n",
        "    img_size=(IMAGE_SIZE[1], IMAGE_SIZE[2]),\n",
        "    n_classes=N_CLASSES,\n",
        "    n_input_channels=N_INPUT_CHANNELS,\n",
        ")\n",
        "model.compile(optimizer=OPTIMISER, loss=LOSS)\n",
        "model.load_weights(\"model.h5\")"
      ]
    },
    {
      "cell_type": "code",
      "execution_count": 12,
      "metadata": {
        "id": "U-eEtbOCl185"
      },
      "outputs": [],
      "source": [
        "testing_volumes_T1_processed = testing_volumes_T1.reshape(\n",
        "    [-1, IMAGE_SIZE[1], IMAGE_SIZE[2], 1]\n",
        ")\n",
        "testing_labels_processed = testing_labels.reshape([-1, IMAGE_SIZE[1], IMAGE_SIZE[2], 1])\n",
        "\n",
        "testing_labels_processed = tf.keras.utils.to_categorical(\n",
        "    testing_labels_processed, num_classes=5, dtype=\"float32\"\n",
        ")"
      ]
    },
    {
      "cell_type": "markdown",
      "metadata": {
        "id": "xF4ZYcYDqJnN"
      },
      "source": [
        "**Predict Labels For Test Data**\n"
      ]
    },
    {
      "cell_type": "code",
      "execution_count": 13,
      "metadata": {
        "colab": {
          "base_uri": "https://localhost:8080/",
          "height": 254
        },
        "id": "ItoY31x0K3r8",
        "outputId": "5b7e9fce-d035-4166-d0b4-94556bf5576d"
      },
      "outputs": [
        {
          "name": "stdout",
          "output_type": "stream",
          "text": [
            "8/8 [==============================] - 10s 1s/step\n",
            "(256, 128, 256, 5)\n",
            "(256, 128, 256)\n"
          ]
        },
        {
          "data": {
            "text/plain": [
              "<matplotlib.image.AxesImage at 0x1c44736a4d0>"
            ]
          },
          "execution_count": 13,
          "metadata": {},
          "output_type": "execute_result"
        },
        {
          "data": {
            "image/png": "[encoded data removed]",
            "text/plain": [
              "<Figure size 640x480 with 1 Axes>"
            ]
          },
          "metadata": {},
          "output_type": "display_data"
        }
      ],
      "source": [
        "prediction = model.predict(x=testing_volumes_T1[0])\n",
        "print(prediction.shape)\n",
        "\n",
        "prediction = np.argmax(prediction, axis=3)\n",
        "print(prediction.shape)\n",
        "plt.imshow(prediction[128, :, :])"
      ]
    },
    {
      "cell_type": "code",
      "execution_count": 14,
      "metadata": {
        "colab": {
          "base_uri": "https://localhost:8080/",
          "height": 236
        },
        "id": "K_irAeBKv2wk",
        "outputId": "1c9200f8-f241-43c2-b9d8-7eaa374b40f8"
      },
      "outputs": [
        {
          "data": {
            "text/plain": [
              "<matplotlib.image.AxesImage at 0x2a0d1843d90>"
            ]
          },
          "execution_count": 14,
          "metadata": {},
          "output_type": "execute_result"
        },
        {
          "data": {
            "image/png": "[encoded data removed]",
            "text/plain": [
              "<Figure size 640x480 with 1 Axes>"
            ]
          },
          "metadata": {},
          "output_type": "display_data"
        }
      ],
      "source": [
        "plt.imshow(np.squeeze(testing_labels[0][128, :, :]))"
      ]
    },
    {
      "cell_type": "markdown",
      "metadata": {},
      "source": [
        "**Dice & IOU Score Evaluation**\n"
      ]
    },
    {
      "cell_type": "code",
      "execution_count": 35,
      "metadata": {
        "id": "zCUtevyd7nKz"
      },
      "outputs": [],
      "source": [
        "def compute_dice_iou(prediction, labels):\n",
        "    prediction = prediction.squeeze()\n",
        "    labels = labels.squeeze()\n",
        "    dice = []\n",
        "    iou = []\n",
        "    for c in np.unique(prediction):\n",
        "        intersection = np.logical_and(prediction == c, labels == c).sum()\n",
        "        sum = (prediction == c).sum() + (labels == c).sum()\n",
        "        union = sum - intersection\n",
        "        dice.append(2 * intersection / sum)\n",
        "        iou.append(intersection / union)\n",
        "    return dice, iou"
      ]
    },
    {
      "cell_type": "code",
      "execution_count": 36,
      "metadata": {
        "colab": {
          "base_uri": "https://localhost:8080/"
        },
        "id": "w00PRjuLhL6n",
        "outputId": "d897e8c4-8283-48ad-dfce-ad082f345ad7"
      },
      "outputs": [
        {
          "name": "stdout",
          "output_type": "stream",
          "text": [
            "8/8 [==============================] - 9s 1s/step\n",
            "8/8 [==============================] - 8s 1s/step\n",
            "8/8 [==============================] - 8s 1s/step\n",
            "8/8 [==============================] - 8s 999ms/step\n",
            "8/8 [==============================] - 8s 1s/step\n"
          ]
        }
      ],
      "source": [
        "dice_background = []\n",
        "iou_background = []\n",
        "\n",
        "dice_csf = []\n",
        "iou_csf = []\n",
        "\n",
        "dice_wm = []\n",
        "iou_wm = []\n",
        "dice_gm = []\n",
        "iou_gm = []\n",
        "dices = []\n",
        "ious = []\n",
        "\n",
        "\n",
        "for i in range(5):\n",
        "\n",
        "    prediction = model.predict(x=testing_volumes_T1[i])\n",
        "    prediction = np.argmax(prediction, axis=3)\n",
        "    dices, ious = compute_dice_iou(prediction, testing_labels[i])\n",
        "\n",
        "    dice_background.append(dices[0])\n",
        "    dice_csf.append(dices[1])\n",
        "    dice_wm.append(dices[2])\n",
        "    dice_gm.append(dices[3])\n",
        "\n",
        "    iou_background.append(ious[0])\n",
        "    iou_csf.append(ious[1])\n",
        "    iou_wm.append(ious[2])\n",
        "    iou_gm.append(ious[3])"
      ]
    },
    {
      "cell_type": "code",
      "execution_count": 37,
      "metadata": {},
      "outputs": [
        {
          "data": {
            "text/plain": [
              "[0.873944715133388,\n",
              " 0.8902378416755413,\n",
              " 0.869237668161435,\n",
              " 0.8944450045367477,\n",
              " 0.9133879834875668]"
            ]
          },
          "execution_count": 37,
          "metadata": {},
          "output_type": "execute_result"
        }
      ],
      "source": [
        "dice_csf"
      ]
    },
    {
      "cell_type": "code",
      "execution_count": 38,
      "metadata": {},
      "outputs": [
        {
          "data": {
            "text/plain": [
              "[0.9332747057382234,\n",
              " 0.915558479652398,\n",
              " 0.9163336082539747,\n",
              " 0.9436358111141492,\n",
              " 0.9350014283805966]"
            ]
          },
          "execution_count": 38,
          "metadata": {},
          "output_type": "execute_result"
        }
      ],
      "source": [
        "dice_wm"
      ]
    },
    {
      "cell_type": "code",
      "execution_count": 39,
      "metadata": {},
      "outputs": [
        {
          "data": {
            "text/plain": [
              "[0.9396325459317585,\n",
              " 0.9089264035549854,\n",
              " 0.8794074169810254,\n",
              " 0.9336118203865343,\n",
              " 0.9082304405107763]"
            ]
          },
          "execution_count": 39,
          "metadata": {},
          "output_type": "execute_result"
        }
      ],
      "source": [
        "dice_gm"
      ]
    },
    {
      "cell_type": "code",
      "execution_count": 40,
      "metadata": {},
      "outputs": [
        {
          "data": {
            "text/plain": [
              "[0.7761117299288836,\n",
              " 0.8021879598234278,\n",
              " 0.7687182741116751,\n",
              " 0.8090461426226518,\n",
              " 0.8405833633417357]"
            ]
          },
          "execution_count": 40,
          "metadata": {},
          "output_type": "execute_result"
        }
      ],
      "source": [
        "iou_csf"
      ]
    },
    {
      "cell_type": "code",
      "execution_count": 41,
      "metadata": {},
      "outputs": [
        {
          "data": {
            "text/plain": [
              "[0.8748969493444821,\n",
              " 0.8442672679656612,\n",
              " 0.8455864417623576,\n",
              " 0.8932864451883811,\n",
              " 0.8779367909938722]"
            ]
          },
          "execution_count": 41,
          "metadata": {},
          "output_type": "execute_result"
        }
      ],
      "source": [
        "iou_wm"
      ]
    },
    {
      "cell_type": "code",
      "execution_count": 42,
      "metadata": {},
      "outputs": [
        {
          "data": {
            "text/plain": [
              "[0.8861386138613861,\n",
              " 0.833056914324103,\n",
              " 0.7847699782304687,\n",
              " 0.8754896558633471,\n",
              " 0.8318884077842261]"
            ]
          },
          "execution_count": 42,
          "metadata": {},
          "output_type": "execute_result"
        }
      ],
      "source": [
        "iou_gm"
      ]
    },
    {
      "cell_type": "code",
      "execution_count": 43,
      "metadata": {
        "colab": {
          "base_uri": "https://localhost:8080/"
        },
        "id": "lfai7Z3RsesD",
        "outputId": "ae4b1876-870a-48a0-f79d-2b490db91f39"
      },
      "outputs": [
        {
          "name": "stdout",
          "output_type": "stream",
          "text": [
            "Dice Background : 0.9974241307593568\n",
            "Dice CSF : 0.8882506425989357\n",
            "Dice WM : 0.9287608066278684\n",
            "Dice GM : 0.913961725473016\n"
          ]
        }
      ],
      "source": [
        "print(f\"Dice Background : {np.average(np.array(dice_background))}\")\n",
        "print(f\"Dice CSF : {np.average(np.array(dice_csf))}\")\n",
        "print(f\"Dice WM : {np.average(np.array(dice_wm))}\")\n",
        "print(f\"Dice GM : {np.average(np.array(dice_gm))}\")"
      ]
    },
    {
      "cell_type": "code",
      "execution_count": 44,
      "metadata": {},
      "outputs": [
        {
          "name": "stdout",
          "output_type": "stream",
          "text": [
            "IoU Background : 0.9948620379078366\n",
            "IoU CSF : 0.7993294939656748\n",
            "IoU WM : 0.867194779050951\n",
            "IoU GM : 0.8422687140127063\n"
          ]
        }
      ],
      "source": [
        "print(f\"IoU Background : {np.average(np.array(iou_background))}\")\n",
        "print(f\"IoU CSF : {np.average(np.array(iou_csf))}\")\n",
        "print(f\"IoU WM : {np.average(np.array(iou_wm))}\")\n",
        "print(f\"IoU GM : {np.average(np.array(iou_gm))}\")"
      ]
    },
    {
      "cell_type": "code",
      "execution_count": null,
      "metadata": {},
      "outputs": [],
      "source": []
    }
  ],
  "metadata": {
    "accelerator": "GPU",
    "colab": {
      "collapsed_sections": [],
      "name": "Final_ Trial1.ipynb",
      "provenance": []
    },
    "kernelspec": {
      "display_name": "Python 3",
      "name": "python3"
    },
    "language_info": {
      "codemirror_mode": {
        "name": "ipython",
        "version": 3
      },
      "file_extension": ".py",
      "mimetype": "text/x-python",
      "name": "python",
      "nbconvert_exporter": "python",
      "pygments_lexer": "ipython3",
      "version": "3.11.5"
    }
  },
  "nbformat": 4,
  "nbformat_minor": 0
}
